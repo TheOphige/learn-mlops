{
 "cells": [
  {
   "cell_type": "code",
   "execution_count": 115,
   "id": "7fbd63f1",
   "metadata": {},
   "outputs": [],
   "source": [
    "x =2"
   ]
  },
  {
   "cell_type": "code",
   "execution_count": 122,
   "id": "0a6db1f5",
   "metadata": {},
   "outputs": [],
   "source": [
    "y=4"
   ]
  },
  {
   "cell_type": "code",
   "execution_count": 117,
   "id": "c7c1b3ff",
   "metadata": {},
   "outputs": [],
   "source": [
    "z=8"
   ]
  },
  {
   "cell_type": "code",
   "execution_count": 118,
   "id": "05a6120f",
   "metadata": {},
   "outputs": [
    {
     "data": {
      "text/plain": [
       "'kdkkd'"
      ]
     },
     "execution_count": 118,
     "metadata": {},
     "output_type": "execute_result"
    }
   ],
   "source": [
    "who"
   ]
  },
  {
   "cell_type": "code",
   "execution_count": 119,
   "id": "8cd29986",
   "metadata": {},
   "outputs": [],
   "source": [
    "who = 5"
   ]
  },
  {
   "cell_type": "code",
   "execution_count": 120,
   "id": "ea01d211",
   "metadata": {},
   "outputs": [
    {
     "data": {
      "text/plain": [
       "5"
      ]
     },
     "execution_count": 120,
     "metadata": {},
     "output_type": "execute_result"
    }
   ],
   "source": [
    "who"
   ]
  },
  {
   "cell_type": "code",
   "execution_count": 1,
   "id": "62ea0133",
   "metadata": {},
   "outputs": [
    {
     "name": "stdout",
     "output_type": "stream",
     "text": [
      "Overwriting magic_stuff.py\n"
     ]
    }
   ],
   "source": [
    "%%writefile magic_stuff.py\n",
    "'''\n",
    "THIS IS FOR MATH\n",
    "'''\n",
    "import math\n",
    "\n",
    "X=2\n",
    "Y= math.floor(X)\n",
    "\n",
    "print(Y)"
   ]
  },
  {
   "cell_type": "code",
   "execution_count": 6,
   "id": "d9550ece",
   "metadata": {},
   "outputs": [
    {
     "name": "stdout",
     "output_type": "stream",
     "text": [
      "'''\n",
      "THIS IS FOR MATH\n",
      "'''\n",
      "import math\n",
      "\n",
      "X=2\n",
      "Y= math.floor(X)\n",
      "\n",
      "print(Y)\n"
     ]
    }
   ],
   "source": [
    "%%bash\n",
    "cat magic_stuff.py"
   ]
  },
  {
   "cell_type": "code",
   "execution_count": 148,
   "id": "90d97df3",
   "metadata": {},
   "outputs": [
    {
     "name": "stdout",
     "output_type": "stream",
     "text": [
      "2\n"
     ]
    }
   ],
   "source": [
    "!python magic_stuff.py"
   ]
  },
  {
   "cell_type": "code",
   "execution_count": 9,
   "id": "9dc0e506",
   "metadata": {},
   "outputs": [
    {
     "name": "stdout",
     "output_type": "stream",
     "text": [
      "Writing print_time.py\n"
     ]
    }
   ],
   "source": [
    "%%writefile print_time.py\n",
    "#!/usr/bin/env python\n",
    "import datetime\n",
    "print(datetime.datetime.now().time())"
   ]
  },
  {
   "cell_type": "code",
   "execution_count": 12,
   "id": "49ca6a5b",
   "metadata": {},
   "outputs": [
    {
     "name": "stdout",
     "output_type": "stream",
     "text": [
      "16:22:19.707071\n"
     ]
    }
   ],
   "source": [
    "!python print_time.py"
   ]
  },
  {
   "cell_type": "code",
   "execution_count": 149,
   "id": "6bda3753",
   "metadata": {},
   "outputs": [
    {
     "data": {
      "text/plain": [
       "[]"
      ]
     },
     "execution_count": 149,
     "metadata": {},
     "output_type": "execute_result"
    }
   ],
   "source": [
    "%dirs"
   ]
  },
  {
   "cell_type": "code",
   "execution_count": 150,
   "id": "5a66496d",
   "metadata": {},
   "outputs": [
    {
     "data": {
      "text/plain": [
       "'C:\\\\Users\\\\USER\\\\Desktop\\\\hd\\\\Documents\\\\pyspark spin\\\\money'"
      ]
     },
     "execution_count": 150,
     "metadata": {},
     "output_type": "execute_result"
    }
   ],
   "source": [
    "%pwd"
   ]
  },
  {
   "cell_type": "code",
   "execution_count": 151,
   "id": "4ee78b5a",
   "metadata": {},
   "outputs": [
    {
     "name": "stderr",
     "output_type": "stream",
     "text": [
      "'pwd' is not recognized as an internal or external command,\n",
      "operable program or batch file.\n"
     ]
    }
   ],
   "source": [
    "!pwd"
   ]
  },
  {
   "cell_type": "code",
   "execution_count": 152,
   "id": "c7c024c5",
   "metadata": {},
   "outputs": [
    {
     "name": "stdout",
     "output_type": "stream",
     "text": [
      "\f",
      "\n"
     ]
    }
   ],
   "source": [
    "%cls"
   ]
  },
  {
   "cell_type": "code",
   "execution_count": 153,
   "id": "1094fed9",
   "metadata": {},
   "outputs": [
    {
     "data": {
      "text/plain": [
       "'C:\\\\Users\\\\USER\\\\Desktop\\\\hd\\\\Documents\\\\pyspark spin\\\\money'"
      ]
     },
     "execution_count": 153,
     "metadata": {},
     "output_type": "execute_result"
    }
   ],
   "source": [
    "%pwd"
   ]
  },
  {
   "cell_type": "code",
   "execution_count": 154,
   "id": "1416cf42",
   "metadata": {},
   "outputs": [
    {
     "data": {
      "text/plain": [
       "['2']"
      ]
     },
     "execution_count": 154,
     "metadata": {},
     "output_type": "execute_result"
    }
   ],
   "source": [
    "%%!\n",
    "python magic_stuff.py"
   ]
  },
  {
   "cell_type": "code",
   "execution_count": 155,
   "id": "4ba9497f",
   "metadata": {},
   "outputs": [
    {
     "name": "stdout",
     "output_type": "stream",
     "text": [
      "\n",
      "-------------------------------------------------------------------\n",
      "Your code has been rated at 10.00/10 (previous run: 7.50/10, +2.50)\n",
      "\n"
     ]
    }
   ],
   "source": [
    "!pylint magic_stuff.py"
   ]
  },
  {
   "cell_type": "code",
   "execution_count": 131,
   "id": "576b9c10",
   "metadata": {},
   "outputs": [],
   "source": [
    "who ='kdkkd'"
   ]
  },
  {
   "cell_type": "code",
   "execution_count": 132,
   "id": "9b710157",
   "metadata": {},
   "outputs": [
    {
     "name": "stdout",
     "output_type": "stream",
     "text": [
      "who\t x\t y\t z\t \n"
     ]
    }
   ],
   "source": [
    "%who"
   ]
  },
  {
   "cell_type": "code",
   "execution_count": 146,
   "id": "de322c3c",
   "metadata": {},
   "outputs": [
    {
     "name": "stderr",
     "output_type": "stream",
     "text": [
      "reformatted magic_stuff.py\n",
      "\n",
      "All done! \\u2728 \\U0001f370 \\u2728\n",
      "1 file reformatted.\n"
     ]
    }
   ],
   "source": [
    "!black magic_stuff.py"
   ]
  },
  {
   "cell_type": "code",
   "execution_count": 38,
   "id": "15170f7e",
   "metadata": {},
   "outputs": [],
   "source": [
    "%less magic_stuff.py"
   ]
  },
  {
   "cell_type": "code",
   "execution_count": 45,
   "id": "ab5343dc",
   "metadata": {},
   "outputs": [
    {
     "data": {
      "text/html": [
       "<h1>head</h1>\n",
       "<h2>head 2 '//lla;;'</h2>\n",
       "<h3>head 3;;''.,</h3>\n"
      ],
      "text/plain": [
       "<IPython.core.display.HTML object>"
      ]
     },
     "metadata": {},
     "output_type": "display_data"
    }
   ],
   "source": [
    "%%HTML\n",
    "<h1>head</h1>\n",
    "<h2>head 2 '//lla;;'</h2>\n",
    "<h3>head 3;;''.,</h3>"
   ]
  },
  {
   "cell_type": "code",
   "execution_count": 54,
   "id": "b2dd6569",
   "metadata": {},
   "outputs": [],
   "source": [
    "%mkdir money"
   ]
  },
  {
   "cell_type": "code",
   "execution_count": 56,
   "id": "81b6e586",
   "metadata": {},
   "outputs": [
    {
     "name": "stdout",
     "output_type": "stream",
     "text": [
      "C:\\Users\\USER\\Desktop\\hd\\Documents\\pyspark spin\\money\n"
     ]
    }
   ],
   "source": [
    "%cd money"
   ]
  },
  {
   "cell_type": "code",
   "execution_count": 95,
   "id": "9383eb99",
   "metadata": {},
   "outputs": [
    {
     "name": "stdout",
     "output_type": "stream",
     "text": [
      "cncnnc\n"
     ]
    }
   ],
   "source": [
    "%colors Neutral\n",
    "print('cncnnc')\n"
   ]
  },
  {
   "cell_type": "code",
   "execution_count": 92,
   "id": "8821ea7b",
   "metadata": {},
   "outputs": [
    {
     "name": "stdout",
     "output_type": "stream",
     "text": [
      "Overwriting money.txt\n"
     ]
    }
   ],
   "source": [
    "%%writefile money.txt\n",
    "'thusjjsjk'\n",
    "'hdjujudk'"
   ]
  },
  {
   "cell_type": "code",
   "execution_count": 87,
   "id": "0b7758fa",
   "metadata": {},
   "outputs": [
    {
     "name": "stdout",
     "output_type": "stream",
     "text": [
      "ECHO is on.\n"
     ]
    }
   ],
   "source": [
    "%echo"
   ]
  },
  {
   "cell_type": "code",
   "execution_count": 88,
   "id": "3d199d8f",
   "metadata": {},
   "outputs": [
    {
     "name": "stdout",
     "output_type": "stream",
     "text": [
      " Volume in drive C has no label.\n",
      " Volume Serial Number is 327D-0CE5\n",
      "\n",
      " Directory of C:\\Users\\USER\\Desktop\\hd\\Documents\\pyspark spin\\money\n",
      "\n",
      "06/20/2023  11:15 AM    <DIR>          .\n",
      "06/20/2023  11:15 AM    <DIR>          ..\n",
      "06/20/2023  11:15 AM                13 money.txt\n",
      "               1 File(s)             13 bytes\n",
      "               2 Dir(s)  319,444,979,712 bytes free\n"
     ]
    }
   ],
   "source": [
    "%ls"
   ]
  },
  {
   "cell_type": "code",
   "execution_count": 93,
   "id": "374c8c19",
   "metadata": {},
   "outputs": [],
   "source": [
    "%less money.txt"
   ]
  },
  {
   "cell_type": "code",
   "execution_count": 96,
   "id": "69d27439",
   "metadata": {},
   "outputs": [],
   "source": [
    "%more money.txt"
   ]
  },
  {
   "cell_type": "code",
   "execution_count": 103,
   "id": "d811c1e5",
   "metadata": {},
   "outputs": [
    {
     "data": {
      "text/plain": [
       "[]"
      ]
     },
     "execution_count": 103,
     "metadata": {},
     "output_type": "execute_result"
    }
   ],
   "source": [
    "%system "
   ]
  },
  {
   "cell_type": "code",
   "execution_count": 110,
   "id": "0112b084",
   "metadata": {},
   "outputs": [
    {
     "name": "stdout",
     "output_type": "stream",
     "text": [
      "\n",
      "Logging hasn't been started yet (use logstart for that).\n",
      "\n",
      "%logon/%logoff are for temporarily starting and stopping logging for a logfile\n",
      "which already exists. But you must first start the logging process with\n",
      "%logstart (optionally giving a logfile name).\n"
     ]
    }
   ],
   "source": [
    "%logon"
   ]
  },
  {
   "cell_type": "code",
   "execution_count": 111,
   "id": "810f6c8b",
   "metadata": {},
   "outputs": [
    {
     "name": "stdout",
     "output_type": "stream",
     "text": [
      "Activating auto-logging. Current session state plus future input saved.\n",
      "Filename       : loggings\n",
      "Mode           : backup\n",
      "Output logging : False\n",
      "Raw input log  : False\n",
      "Timestamping   : False\n",
      "State          : active\n"
     ]
    }
   ],
   "source": [
    "%logstart loggings"
   ]
  },
  {
   "cell_type": "code",
   "execution_count": 112,
   "id": "6f1647fb",
   "metadata": {},
   "outputs": [
    {
     "name": "stdout",
     "output_type": "stream",
     "text": [
      " Volume in drive C has no label.\n",
      " Volume Serial Number is 327D-0CE5\n",
      "\n",
      " Directory of C:\\Users\\USER\\Desktop\\hd\\Documents\\pyspark spin\\money\n",
      "\n",
      "06/20/2023  11:27 AM    <DIR>          .\n",
      "06/20/2023  11:27 AM    <DIR>          ..\n",
      "06/20/2023  11:27 AM                 0 loggings\n",
      "06/20/2023  11:16 AM                25 money.txt\n",
      "               2 File(s)             25 bytes\n",
      "               2 Dir(s)  319,460,724,736 bytes free\n"
     ]
    }
   ],
   "source": [
    "%ls"
   ]
  },
  {
   "cell_type": "code",
   "execution_count": 114,
   "id": "3b03883c",
   "metadata": {},
   "outputs": [
    {
     "name": "stdout",
     "output_type": "stream",
     "text": [
      "Filename       : loggings\n",
      "Mode           : backup\n",
      "Output logging : False\n",
      "Raw input log  : False\n",
      "Timestamping   : False\n",
      "State          : active\n"
     ]
    }
   ],
   "source": [
    "%logstate"
   ]
  },
  {
   "cell_type": "code",
   "execution_count": 157,
   "id": "268c32d5",
   "metadata": {},
   "outputs": [
    {
     "name": "stdout",
     "output_type": "stream",
     "text": [
      "Linux Bing 5.15.90.1-microsoft-standard-WSL2 #1 SMP Fri Jan 27 02:56:13 UTC 2023 x86_64 x86_64 x86_64 GNU/Linux\n",
      "loggings\n",
      "magic_stuff.py\n",
      "money.txt\n"
     ]
    },
    {
     "name": "stderr",
     "output_type": "stream",
     "text": [
      "your 131072x1 screen size is bogus. expect trouble\n"
     ]
    },
    {
     "name": "stdout",
     "output_type": "stream",
     "text": [
      "    PID TTY          TIME CMD\n",
      "    285 pts/0    00:00:00 bash\n",
      "    298 pts/0    00:00:00 ps\n"
     ]
    }
   ],
   "source": [
    "%%bash\n",
    "uname -a\n",
    "ls\n",
    "ps"
   ]
  },
  {
   "cell_type": "code",
   "execution_count": 160,
   "id": "8171cb9e",
   "metadata": {},
   "outputs": [
    {
     "name": "stdout",
     "output_type": "stream",
     "text": [
      "Linux Bing 5.15.90.1-microsoft-standard-WSL2 #1 SMP Fri Jan 27 02:56:13 UTC 2023 x86_64 x86_64 x86_64 GNU/Linux\n",
      "loggings\n",
      "magic_stuff.py\n",
      "money.txt\n"
     ]
    },
    {
     "name": "stderr",
     "output_type": "stream",
     "text": [
      "your 131072x1 screen size is bogus. expect trouble\n"
     ]
    },
    {
     "name": "stdout",
     "output_type": "stream",
     "text": [
      "    PID TTY          TIME CMD\n",
      "    332 pts/0    00:00:00 bash\n",
      "    345 pts/0    00:00:00 ps\n"
     ]
    }
   ],
   "source": [
    "%%bash\n",
    "uname -a\n",
    "ls\n",
    "ps"
   ]
  },
  {
   "cell_type": "code",
   "execution_count": 165,
   "id": "1a4b95cf",
   "metadata": {},
   "outputs": [
    {
     "name": "stdout",
     "output_type": "stream",
     "text": [
      "old school\r\n"
     ]
    }
   ],
   "source": [
    "%%python3\n",
    "print('old school')"
   ]
  },
  {
   "cell_type": "code",
   "execution_count": 167,
   "id": "32e7471e",
   "metadata": {},
   "outputs": [],
   "source": [
    "%logstop"
   ]
  },
  {
   "cell_type": "code",
   "execution_count": 168,
   "id": "d77327b8",
   "metadata": {},
   "outputs": [
    {
     "name": "stdout",
     "output_type": "stream",
     "text": [
      "\n",
      "Logging hasn't been started yet (use logstart for that).\n",
      "\n",
      "%logon/%logoff are for temporarily starting and stopping logging for a logfile\n",
      "which already exists. But you must first start the logging process with\n",
      "%logstart (optionally giving a logfile name).\n"
     ]
    }
   ],
   "source": [
    "%logoff"
   ]
  },
  {
   "cell_type": "code",
   "execution_count": 169,
   "id": "80d8efac",
   "metadata": {},
   "outputs": [],
   "source": [
    "%less loggings"
   ]
  },
  {
   "cell_type": "code",
   "execution_count": 170,
   "id": "3cd9b476",
   "metadata": {},
   "outputs": [],
   "source": [
    "god = 'hummm'"
   ]
  },
  {
   "cell_type": "code",
   "execution_count": 172,
   "id": "edc745b4",
   "metadata": {},
   "outputs": [
    {
     "data": {
      "text/plain": [
       "True"
      ]
     },
     "execution_count": 172,
     "metadata": {},
     "output_type": "execute_result"
    }
   ],
   "source": [
    "god.endswith('m')"
   ]
  },
  {
   "cell_type": "code",
   "execution_count": 174,
   "id": "67020c46",
   "metadata": {},
   "outputs": [
    {
     "data": {
      "text/plain": [
       "'this is hummm'"
      ]
     },
     "execution_count": 174,
     "metadata": {},
     "output_type": "execute_result"
    }
   ],
   "source": [
    "f'this is {god}'"
   ]
  },
  {
   "cell_type": "code",
   "execution_count": 175,
   "id": "9300b89e",
   "metadata": {},
   "outputs": [
    {
     "data": {
      "text/plain": [
       "'this is hummm'"
      ]
     },
     "execution_count": 175,
     "metadata": {},
     "output_type": "execute_result"
    }
   ],
   "source": [
    "'this is %s' % god"
   ]
  },
  {
   "cell_type": "code",
   "execution_count": 176,
   "id": "fa125825",
   "metadata": {},
   "outputs": [
    {
     "data": {
      "text/plain": [
       "' this is hummm '"
      ]
     },
     "execution_count": 176,
     "metadata": {},
     "output_type": "execute_result"
    }
   ],
   "source": [
    "f'''\n",
    "this is {god}\n",
    "'''.replace('\\n', ' ')"
   ]
  },
  {
   "cell_type": "code",
   "execution_count": 177,
   "id": "1549d54f",
   "metadata": {},
   "outputs": [],
   "source": [
    "god?"
   ]
  },
  {
   "cell_type": "code",
   "execution_count": 180,
   "id": "fd2fc291",
   "metadata": {},
   "outputs": [],
   "source": [
    "def money(**kwargs):\n",
    "    'This function prints all keywords, both keys and values'\n",
    "    for name, values in kwargs.items():\n",
    "        print(name, ':', values)"
   ]
  },
  {
   "cell_type": "code",
   "execution_count": 181,
   "id": "2645ce80",
   "metadata": {},
   "outputs": [
    {
     "name": "stdout",
     "output_type": "stream",
     "text": [
      "olowo : shinsu\n",
      "money_man : odogwu\n",
      "rich : machala\n"
     ]
    }
   ],
   "source": [
    "money(olowo='shinsu', \n",
    "      money_man='odogwu', \n",
    "     rich='machala')"
   ]
  },
  {
   "cell_type": "code",
   "execution_count": 182,
   "id": "cbd5b61e",
   "metadata": {},
   "outputs": [],
   "source": [
    "def money(**args):\n",
    "    'This function prints all keywords, both keys and values'\n",
    "    for values in args.items():\n",
    "        print(values)"
   ]
  },
  {
   "cell_type": "code",
   "execution_count": 183,
   "id": "95cbe6cb",
   "metadata": {},
   "outputs": [
    {
     "name": "stdout",
     "output_type": "stream",
     "text": [
      "('olowo', 'shinsu')\n",
      "('money_man', 'odogwu')\n",
      "('rich', 'machala')\n"
     ]
    }
   ],
   "source": [
    "money(olowo='shinsu', \n",
    "      money_man='odogwu', \n",
    "     rich='machala')"
   ]
  },
  {
   "cell_type": "code",
   "execution_count": null,
   "id": "c3a9613d",
   "metadata": {},
   "outputs": [],
   "source": [
    "from functools import cache"
   ]
  },
  {
   "cell_type": "markdown",
   "id": "b7270703",
   "metadata": {},
   "source": [
    "# writing decorators"
   ]
  },
  {
   "cell_type": "code",
   "execution_count": 2,
   "id": "ed8cedbd",
   "metadata": {},
   "outputs": [],
   "source": [
    "def randomized_speed_attack_decorator(function):\n",
    "    \"\"\"Randomizes the speed of attacks\"\"\"\n",
    "    \n",
    "    import time \n",
    "    import random\n",
    "    \n",
    "    def wrapper_func(*args, **kwargs):\n",
    "        sleeep_time = random.randint(0, 3)\n",
    "        print(f\"Attacking after {sleeep_time} seconds\")\n",
    "        time.sleep(sleeep_time)\n",
    "        return function(*args, **kwargs)\n",
    "    return wrapper_func"
   ]
  },
  {
   "cell_type": "code",
   "execution_count": 3,
   "id": "c35e1148",
   "metadata": {},
   "outputs": [],
   "source": [
    "@randomized_speed_attack_decorator\n",
    "def lazy_return_random_attacks():\n",
    "    \"\"\"Yield attacks each time\"\"\"\n",
    "    import random\n",
    "    attacks = {\"kimura\": \"upper_body\",\n",
    "              \"straight_ankle_lock\": \"lower_body\",\n",
    "              \"arm_traingle\":\"upper_body\",\n",
    "              \"keylock\": \"upper_body\",\n",
    "              \"knee_bar\": \"lower_body\"}\n",
    "    while True:\n",
    "        random_attack =random.choices(list(attacks.keys()))\n",
    "        yield random_attack"
   ]
  },
  {
   "cell_type": "code",
   "execution_count": 4,
   "id": "fd49fd49",
   "metadata": {},
   "outputs": [
    {
     "name": "stdout",
     "output_type": "stream",
     "text": [
      "Attacking after 3 seconds\n",
      "['knee_bar']\n",
      "Attacking after 3 seconds\n",
      "['straight_ankle_lock']\n",
      "Attacking after 2 seconds\n",
      "['kimura']\n",
      "Attacking after 0 seconds\n",
      "['straight_ankle_lock']\n",
      "Attacking after 0 seconds\n",
      "['arm_traingle']\n"
     ]
    }
   ],
   "source": [
    "for _ in range(5):\n",
    "    print(next(lazy_return_random_attacks()))"
   ]
  },
  {
   "cell_type": "markdown",
   "id": "cdf75c55",
   "metadata": {},
   "source": [
    "# Timing Decorator"
   ]
  },
  {
   "cell_type": "code",
   "execution_count": 1,
   "id": "fc4cac61",
   "metadata": {},
   "outputs": [],
   "source": [
    "from functools import wraps\n",
    "from time import time\n",
    "\n",
    "def timing(f):\n",
    "    @wraps(f)\n",
    "    def wrap(*args, **kw):\n",
    "        ts = time()\n",
    "        result = f(*args, **kw)\n",
    "        te = time()\n",
    "        print(f\"fun: {f.__name__}, args: [{args}, {kw}] took: {te - ts} sec\")\n",
    "        return result\n",
    "    return wrap\n"
   ]
  },
  {
   "cell_type": "code",
   "execution_count": 5,
   "id": "f91c94d2",
   "metadata": {},
   "outputs": [],
   "source": [
    "@timing\n",
    "def some_attacks(foo):\n",
    "    print(f\"this was passed in: {foo}\")\n",
    "    attack = lazy_return_random_attacks()\n",
    "    for _ in range(5):\n",
    "        print(next(attack))\n",
    "        "
   ]
  },
  {
   "cell_type": "code",
   "execution_count": 6,
   "id": "c2eb7f90",
   "metadata": {},
   "outputs": [
    {
     "name": "stdout",
     "output_type": "stream",
     "text": [
      "this was passed in: bar\n",
      "Attacking after 0 seconds\n",
      "['arm_traingle']\n",
      "['arm_traingle']\n",
      "['keylock']\n",
      "['arm_traingle']\n",
      "['arm_traingle']\n",
      "fun: some_attacks, args: [('bar',), {}] took: 0.0010008811950683594 sec\n"
     ]
    }
   ],
   "source": [
    "some_attacks(\"bar\")"
   ]
  },
  {
   "cell_type": "markdown",
   "id": "1366e33f",
   "metadata": {},
   "source": [
    "# Automating files and filesystem"
   ]
  },
  {
   "cell_type": "code",
   "execution_count": 12,
   "id": "aa71fac7",
   "metadata": {},
   "outputs": [
    {
     "name": "stdout",
     "output_type": "stream",
     "text": [
      "Overwriting bookofdreams.txt\n"
     ]
    }
   ],
   "source": [
    "%%writefile bookofdreams.txt\n",
    "'''\n",
    "This is the book of dreams.\n",
    "all your dreams in a book.\n",
    "Explore this world!!!\n",
    "'''"
   ]
  },
  {
   "cell_type": "code",
   "execution_count": 13,
   "id": "b57b5ecf",
   "metadata": {},
   "outputs": [],
   "source": [
    "%less bookofdreams.txt"
   ]
  },
  {
   "cell_type": "code",
   "execution_count": 14,
   "id": "71311b3e",
   "metadata": {},
   "outputs": [],
   "source": [
    "file_path = 'bookofdreams.txt'"
   ]
  },
  {
   "cell_type": "code",
   "execution_count": 23,
   "id": "62c50630",
   "metadata": {},
   "outputs": [
    {
     "name": "stdout",
     "output_type": "stream",
     "text": [
      "5\n",
      "[\"'''\\n\", 'This is the book of dreams.\\n', 'all your dreams in a book.\\n', 'Explore this world!!!\\n', \"'''\\n\"]\n",
      "<_io.TextIOWrapper name='bookofdreams.txt' mode='r' encoding='cp1252'>\n"
     ]
    }
   ],
   "source": [
    "with open(file_path, 'r') as open_file:\n",
    "    text = open_file.readlines()\n",
    "    print(len(text))\n",
    "    print(text[:9])\n",
    "    print(open_file)"
   ]
  },
  {
   "cell_type": "code",
   "execution_count": 24,
   "id": "dc6a6df6",
   "metadata": {},
   "outputs": [
    {
     "name": "stdout",
     "output_type": "stream",
     "text": [
      "Writing bookofdreams.pdf\n"
     ]
    }
   ],
   "source": [
    "%%writefile bookofdreams.pdf\n",
    "'''\n",
    "This is the book of dreams.\n",
    "all your dreams in a book.\n",
    "Explore this world!!!\n",
    "Note: This is in pdf format!\n",
    "'''"
   ]
  },
  {
   "cell_type": "code",
   "execution_count": 25,
   "id": "55aa76a7",
   "metadata": {},
   "outputs": [],
   "source": [
    "%less bookofdreams.pdf"
   ]
  },
  {
   "cell_type": "code",
   "execution_count": 27,
   "id": "d8462fb2",
   "metadata": {},
   "outputs": [
    {
     "data": {
      "text/plain": [
       "39"
      ]
     },
     "execution_count": 27,
     "metadata": {},
     "output_type": "execute_result"
    }
   ],
   "source": [
    "with open(file_path, 'rb') as open_file:\n",
    "    btext = open_file.read()\n",
    "    \n",
    "btext[0]"
   ]
  },
  {
   "cell_type": "code",
   "execution_count": 33,
   "id": "a589e8bc",
   "metadata": {},
   "outputs": [
    {
     "data": {
      "text/plain": [
       "b\"'''\\r\\nThis is the book of dreams.\\r\\nall your dreams in a book.\\r\\nExplore this world!!!\\r\\n'''\\r\\n\""
      ]
     },
     "execution_count": 33,
     "metadata": {},
     "output_type": "execute_result"
    }
   ],
   "source": [
    "btext[:]"
   ]
  },
  {
   "cell_type": "code",
   "execution_count": 34,
   "id": "16113ad8",
   "metadata": {},
   "outputs": [],
   "source": [
    "text = '''export STAGE=PROD \n",
    "export TABLE_ID=token-storage-1234'''"
   ]
  },
  {
   "cell_type": "code",
   "execution_count": 35,
   "id": "9c891edd",
   "metadata": {},
   "outputs": [],
   "source": [
    "with open('.envrc', 'w') as opened_file:\n",
    "    opened_file.write(text)"
   ]
  },
  {
   "cell_type": "code",
   "execution_count": 38,
   "id": "68a6b586",
   "metadata": {},
   "outputs": [],
   "source": [
    "%less .envrc"
   ]
  },
  {
   "cell_type": "code",
   "execution_count": 42,
   "id": "eb68c435",
   "metadata": {},
   "outputs": [
    {
     "name": "stdout",
     "output_type": "stream",
     "text": [
      " Volume in drive C has no label.\n",
      " Volume Serial Number is 327D-0CE5\n",
      "\n",
      " Directory of C:\\Users\\USER\\Desktop\\hd\\Documents\\pyspark spin\n",
      "\n",
      "06/23/2023  02:14 PM    <DIR>          .\n",
      "06/23/2023  02:14 PM    <DIR>          ..\n",
      "06/23/2023  02:10 PM                54 .envrc\n",
      "06/20/2023  11:51 AM    <DIR>          .ipynb_checkpoints\n",
      "06/23/2023  02:02 PM               120 bookofdreams.pdf\n",
      "06/23/2023  01:47 PM                90 bookofdreams.txt\n",
      "06/11/2023  12:45 AM    <DIR>          csv_folder\n",
      "05/12/2023  03:13 AM    <DIR>          data\n",
      "06/11/2023  01:05 AM            61,338 Data processing.ipynb\n",
      "06/23/2023  02:14 PM            27,718 Ipython shiits.ipynb\n",
      "06/20/2023  11:01 AM                53 magic_stuff.py\n",
      "06/20/2023  11:28 AM    <DIR>          money\n",
      "06/11/2023  12:47 AM            49,000 Structured app.ipynb\n",
      "               7 File(s)        138,373 bytes\n",
      "               6 Dir(s)  317,209,804,800 bytes free\n"
     ]
    }
   ],
   "source": [
    "!dir"
   ]
  },
  {
   "cell_type": "code",
   "execution_count": 43,
   "id": "2cfc406f",
   "metadata": {},
   "outputs": [
    {
     "name": "stdout",
     "output_type": "stream",
     "text": [
      "Writing check_pending.py\n"
     ]
    }
   ],
   "source": [
    "%%writefile check_pending.py\n",
    "print('Checking pending...')\n",
    "print('Checking pending...')\n",
    "print('Checking pending...')\n",
    "print('Checking pending...')\n",
    "print('Checking pending...')\n",
    "print('Checking pending...')"
   ]
  },
  {
   "cell_type": "code",
   "execution_count": 44,
   "id": "78018e80",
   "metadata": {},
   "outputs": [],
   "source": [
    "%less check_pending.py"
   ]
  },
  {
   "cell_type": "code",
   "execution_count": 45,
   "id": "ee84e0eb",
   "metadata": {},
   "outputs": [],
   "source": [
    "import pathlib"
   ]
  },
  {
   "cell_type": "code",
   "execution_count": 46,
   "id": "d3493364",
   "metadata": {},
   "outputs": [
    {
     "data": {
      "text/plain": [
       "'C:\\\\Users\\\\USER\\\\Desktop\\\\hd\\\\Documents\\\\pyspark spin'"
      ]
     },
     "execution_count": 46,
     "metadata": {},
     "output_type": "execute_result"
    }
   ],
   "source": [
    "%pwd"
   ]
  },
  {
   "cell_type": "code",
   "execution_count": 52,
   "id": "a52c4027",
   "metadata": {},
   "outputs": [],
   "source": [
    "first = %pwd\n",
    "path = pathlib.Path(first + \"\\check_pending.py\")"
   ]
  },
  {
   "cell_type": "code",
   "execution_count": 53,
   "id": "91e9659c",
   "metadata": {},
   "outputs": [
    {
     "data": {
      "text/plain": [
       "\"print('Checking pending...')\\nprint('Checking pending...')\\nprint('Checking pending...')\\nprint('Checking pending...')\\nprint('Checking pending...')\\nprint('Checking pending...')\\n\""
      ]
     },
     "execution_count": 53,
     "metadata": {},
     "output_type": "execute_result"
    }
   ],
   "source": [
    "path.read_text()"
   ]
  },
  {
   "cell_type": "code",
   "execution_count": 54,
   "id": "c8bcfdaa",
   "metadata": {},
   "outputs": [],
   "source": [
    "path = pathlib.Path(\"/Users/kbehrman/sp.config\")"
   ]
  },
  {
   "cell_type": "code",
   "execution_count": 55,
   "id": "ceb85f56",
   "metadata": {
    "collapsed": true
   },
   "outputs": [
    {
     "ename": "FileNotFoundError",
     "evalue": "[Errno 2] No such file or directory: '\\\\Users\\\\kbehrman\\\\sp.config'",
     "output_type": "error",
     "traceback": [
      "\u001b[1;31m---------------------------------------------------------------------------\u001b[0m",
      "\u001b[1;31mFileNotFoundError\u001b[0m                         Traceback (most recent call last)",
      "Cell \u001b[1;32mIn[55], line 1\u001b[0m\n\u001b[1;32m----> 1\u001b[0m \u001b[43mpath\u001b[49m\u001b[38;5;241;43m.\u001b[39;49m\u001b[43mwrite_text\u001b[49m\u001b[43m(\u001b[49m\u001b[38;5;124;43m\"\u001b[39;49m\u001b[38;5;124;43mLOG:DEBUG\u001b[39;49m\u001b[38;5;124;43m\"\u001b[39;49m\u001b[43m)\u001b[49m\n",
      "File \u001b[1;32m~\\AppData\\Local\\Programs\\Python\\Python310\\lib\\pathlib.py:1152\u001b[0m, in \u001b[0;36mPath.write_text\u001b[1;34m(self, data, encoding, errors, newline)\u001b[0m\n\u001b[0;32m   1149\u001b[0m     \u001b[38;5;28;01mraise\u001b[39;00m \u001b[38;5;167;01mTypeError\u001b[39;00m(\u001b[38;5;124m'\u001b[39m\u001b[38;5;124mdata must be str, not \u001b[39m\u001b[38;5;132;01m%s\u001b[39;00m\u001b[38;5;124m'\u001b[39m \u001b[38;5;241m%\u001b[39m\n\u001b[0;32m   1150\u001b[0m                     data\u001b[38;5;241m.\u001b[39m\u001b[38;5;18m__class__\u001b[39m\u001b[38;5;241m.\u001b[39m\u001b[38;5;18m__name__\u001b[39m)\n\u001b[0;32m   1151\u001b[0m encoding \u001b[38;5;241m=\u001b[39m io\u001b[38;5;241m.\u001b[39mtext_encoding(encoding)\n\u001b[1;32m-> 1152\u001b[0m \u001b[38;5;28;01mwith\u001b[39;00m \u001b[38;5;28;43mself\u001b[39;49m\u001b[38;5;241;43m.\u001b[39;49m\u001b[43mopen\u001b[49m\u001b[43m(\u001b[49m\u001b[43mmode\u001b[49m\u001b[38;5;241;43m=\u001b[39;49m\u001b[38;5;124;43m'\u001b[39;49m\u001b[38;5;124;43mw\u001b[39;49m\u001b[38;5;124;43m'\u001b[39;49m\u001b[43m,\u001b[49m\u001b[43m \u001b[49m\u001b[43mencoding\u001b[49m\u001b[38;5;241;43m=\u001b[39;49m\u001b[43mencoding\u001b[49m\u001b[43m,\u001b[49m\u001b[43m \u001b[49m\u001b[43merrors\u001b[49m\u001b[38;5;241;43m=\u001b[39;49m\u001b[43merrors\u001b[49m\u001b[43m,\u001b[49m\u001b[43m \u001b[49m\u001b[43mnewline\u001b[49m\u001b[38;5;241;43m=\u001b[39;49m\u001b[43mnewline\u001b[49m\u001b[43m)\u001b[49m \u001b[38;5;28;01mas\u001b[39;00m f:\n\u001b[0;32m   1153\u001b[0m     \u001b[38;5;28;01mreturn\u001b[39;00m f\u001b[38;5;241m.\u001b[39mwrite(data)\n",
      "File \u001b[1;32m~\\AppData\\Local\\Programs\\Python\\Python310\\lib\\pathlib.py:1117\u001b[0m, in \u001b[0;36mPath.open\u001b[1;34m(self, mode, buffering, encoding, errors, newline)\u001b[0m\n\u001b[0;32m   1115\u001b[0m \u001b[38;5;28;01mif\u001b[39;00m \u001b[38;5;124m\"\u001b[39m\u001b[38;5;124mb\u001b[39m\u001b[38;5;124m\"\u001b[39m \u001b[38;5;129;01mnot\u001b[39;00m \u001b[38;5;129;01min\u001b[39;00m mode:\n\u001b[0;32m   1116\u001b[0m     encoding \u001b[38;5;241m=\u001b[39m io\u001b[38;5;241m.\u001b[39mtext_encoding(encoding)\n\u001b[1;32m-> 1117\u001b[0m \u001b[38;5;28;01mreturn\u001b[39;00m \u001b[38;5;28;43mself\u001b[39;49m\u001b[38;5;241;43m.\u001b[39;49m\u001b[43m_accessor\u001b[49m\u001b[38;5;241;43m.\u001b[39;49m\u001b[43mopen\u001b[49m\u001b[43m(\u001b[49m\u001b[38;5;28;43mself\u001b[39;49m\u001b[43m,\u001b[49m\u001b[43m \u001b[49m\u001b[43mmode\u001b[49m\u001b[43m,\u001b[49m\u001b[43m \u001b[49m\u001b[43mbuffering\u001b[49m\u001b[43m,\u001b[49m\u001b[43m \u001b[49m\u001b[43mencoding\u001b[49m\u001b[43m,\u001b[49m\u001b[43m \u001b[49m\u001b[43merrors\u001b[49m\u001b[43m,\u001b[49m\n\u001b[0;32m   1118\u001b[0m \u001b[43m                           \u001b[49m\u001b[43mnewline\u001b[49m\u001b[43m)\u001b[49m\n",
      "\u001b[1;31mFileNotFoundError\u001b[0m: [Errno 2] No such file or directory: '\\\\Users\\\\kbehrman\\\\sp.config'"
     ]
    }
   ],
   "source": [
    "path.write_text(\"LOG:DEBUG\")"
   ]
  },
  {
   "cell_type": "markdown",
   "id": "dc136411",
   "metadata": {},
   "source": [
    "#### JSON"
   ]
  },
  {
   "cell_type": "code",
   "execution_count": 68,
   "id": "e7b11457",
   "metadata": {},
   "outputs": [
    {
     "name": "stdout",
     "output_type": "stream",
     "text": [
      "Overwriting service-policy.json\n"
     ]
    }
   ],
   "source": [
    "%%writefile service-policy.json\n",
    "{\n",
    " \"Version\": \"2012-10-17\",\n",
    " \"Statement\": {\n",
    "     \"Effect\": \"Allow\",\n",
    "     \"Action\": \"service-prefix:action-name\",\n",
    "     \"Resource\": \"*\",\n",
    "     \"Condition\": {\n",
    "         \"DateGreaterThan\": {\"aws:CurrentTime\": \"2017-07-01T00:00:00Z\"},\n",
    "         \"DateLessThan\": {\"aws:CurrentTime\": \"2017-12-31T23:59:59Z\"}\n",
    "     }\n",
    " }\n",
    "}\n"
   ]
  },
  {
   "cell_type": "code",
   "execution_count": 61,
   "id": "e5783cdb",
   "metadata": {},
   "outputs": [
    {
     "name": "stdout",
     "output_type": "stream",
     "text": [
      " Volume in drive C has no label.\n",
      " Volume Serial Number is 327D-0CE5\n",
      "\n",
      " Directory of C:\\Users\\USER\\Desktop\\hd\\Documents\\pyspark spin\n",
      "\n",
      "06/23/2023  02:39 PM    <DIR>          .\n",
      "06/23/2023  02:39 PM    <DIR>          ..\n",
      "06/23/2023  02:10 PM                54 .envrc\n",
      "06/20/2023  11:51 AM    <DIR>          .ipynb_checkpoints\n",
      "06/23/2023  02:02 PM               120 bookofdreams.pdf\n",
      "06/23/2023  01:47 PM                90 bookofdreams.txt\n",
      "06/23/2023  02:27 PM               180 check_pending.py\n",
      "06/11/2023  12:45 AM    <DIR>          csv_folder\n",
      "05/12/2023  03:13 AM    <DIR>          data\n",
      "06/11/2023  01:05 AM            61,338 Data processing.ipynb\n",
      "06/23/2023  02:39 PM            36,473 Ipython shiits.ipynb\n",
      "06/20/2023  11:01 AM                53 magic_stuff.py\n",
      "06/20/2023  11:28 AM    <DIR>          money\n",
      "06/23/2023  02:38 PM               289 service-policy.json\n",
      "06/23/2023  02:35 PM               289 service-policy.json'\n",
      "06/11/2023  12:47 AM            49,000 Structured app.ipynb\n",
      "              10 File(s)        147,886 bytes\n",
      "               6 Dir(s)  317,212,377,088 bytes free\n"
     ]
    }
   ],
   "source": [
    "%ls"
   ]
  },
  {
   "cell_type": "code",
   "execution_count": 59,
   "id": "29f058b1",
   "metadata": {},
   "outputs": [],
   "source": [
    "with open('service-policy.json', 'r') as opened_file:\n",
    "    policy = opened_file.readlines()"
   ]
  },
  {
   "cell_type": "code",
   "execution_count": 66,
   "id": "2c029002",
   "metadata": {},
   "outputs": [
    {
     "name": "stdout",
     "output_type": "stream",
     "text": [
      "['{\\n', ' \"Version\": \"2012-10-17\",\\n', ' \"Statement\": {\\n', ' \"Effect\": \"Allow\",\\n', ' \"Action\": \"service-prefix:action-name\",\\n', ' \"Resource\": \"*\",\\n', ' \"Condition\": {\\n', ' \"DateGreaterThan\": {\"aws:CurrentTime\": \"2017-07-\\n', '01T00:00:00Z\"},\\n', ' \"DateLessThan\": {\"aws:CurrentTime\": \"2017-12-\\n', '31T23:59:59Z\"}\\n', ' }\\n', ' }\\n', '}\\n']\n"
     ]
    }
   ],
   "source": [
    "print(policy)"
   ]
  },
  {
   "cell_type": "code",
   "execution_count": 69,
   "id": "e382fc43",
   "metadata": {},
   "outputs": [],
   "source": [
    "import json\n",
    "\n",
    "with open('service-policy.json', 'r') as opened_file:\n",
    "    policy = json.load(opened_file)"
   ]
  },
  {
   "cell_type": "code",
   "execution_count": 73,
   "id": "c870d3be",
   "metadata": {},
   "outputs": [
    {
     "name": "stdout",
     "output_type": "stream",
     "text": [
      "{'Statement': {'Action': 'service-prefix:action-name',\n",
      "               'Condition': {'DateGreaterThan': {'aws:CurrentTime': '2017-07-01T00:00:00Z'},\n",
      "                             'DateLessThan': {'aws:CurrentTime': '2017-12-31T23:59:59Z'}},\n",
      "               'Effect': 'Allow',\n",
      "               'Resource': '*'},\n",
      " 'Version': '2012-10-17'}\n"
     ]
    }
   ],
   "source": [
    "from pprint import pprint\n",
    "pprint(policy)"
   ]
  },
  {
   "cell_type": "code",
   "execution_count": 74,
   "id": "c180bf58",
   "metadata": {},
   "outputs": [
    {
     "name": "stdout",
     "output_type": "stream",
     "text": [
      "{'Statement': {'Action': 'service-prefix:action-name',\n",
      "               'Condition': {'DateGreaterThan': {'aws:CurrentTime': '2017-07-01T00:00:00Z'},\n",
      "                             'DateLessThan': {'aws:CurrentTime': '2017-12-31T23:59:59Z'}},\n",
      "               'Effect': 'Allow',\n",
      "               'Resource': 'S3'},\n",
      " 'Version': '2012-10-17'}\n"
     ]
    }
   ],
   "source": [
    "policy['Statement']['Resource'] = 'S3'\n",
    "pprint(policy)"
   ]
  },
  {
   "cell_type": "code",
   "execution_count": 75,
   "id": "0ab5ede4",
   "metadata": {},
   "outputs": [],
   "source": [
    "with open('service-policy.json', 'w') as opened_file:\n",
    "    policy = json.dump(policy, opened_file)\n"
   ]
  },
  {
   "cell_type": "code",
   "execution_count": 77,
   "id": "0b57826c",
   "metadata": {},
   "outputs": [
    {
     "name": "stdout",
     "output_type": "stream",
     "text": [
      "{'Statement': {'Action': 'service-prefix:action-name',\n",
      "               'Condition': {'DateGreaterThan': {'aws:CurrentTime': '2017-07-01T00:00:00Z'},\n",
      "                             'DateLessThan': {'aws:CurrentTime': '2017-12-31T23:59:59Z'}},\n",
      "               'Effect': 'Allow',\n",
      "               'Resource': 'S3'},\n",
      " 'Version': '2012-10-17'}\n"
     ]
    }
   ],
   "source": [
    "with open('service-policy.json', 'r') as opened_file:\n",
    "    policy = json.load(opened_file)\n",
    "    pprint(policy)"
   ]
  },
  {
   "cell_type": "markdown",
   "id": "3d780773",
   "metadata": {},
   "source": [
    "#### YAML"
   ]
  },
  {
   "cell_type": "code",
   "execution_count": 93,
   "id": "f8013dff",
   "metadata": {},
   "outputs": [
    {
     "name": "stdout",
     "output_type": "stream",
     "text": [
      "Overwriting verify-apache.yml\n"
     ]
    }
   ],
   "source": [
    "%%writefile verify-apache.yml\n",
    "---\n",
    "- hosts: webservers\n",
    "  vars:\n",
    "     http_port: 80\n",
    "     max_clients: 200\n",
    "  remote_user: root\n",
    "  tasks:\n",
    "  - name: ensure apache is at the latest version\n",
    "    yum:\n",
    "        name: httpd\n",
    "        state: latest\n",
    "..."
   ]
  },
  {
   "cell_type": "code",
   "execution_count": 79,
   "id": "3fa1c233",
   "metadata": {},
   "outputs": [],
   "source": [
    "%less verify-apache.yml"
   ]
  },
  {
   "cell_type": "code",
   "execution_count": 76,
   "id": "a3fdb5c2",
   "metadata": {},
   "outputs": [],
   "source": [
    "import yaml"
   ]
  },
  {
   "cell_type": "code",
   "execution_count": 94,
   "id": "6dd0f1b6",
   "metadata": {},
   "outputs": [],
   "source": [
    "with open('verify-apache.yml', 'r') as opened_file:\n",
    "    verify_apache = yaml.safe_load(opened_file)"
   ]
  },
  {
   "cell_type": "code",
   "execution_count": 95,
   "id": "093e0ced",
   "metadata": {},
   "outputs": [
    {
     "name": "stdout",
     "output_type": "stream",
     "text": [
      "[{'hosts': 'webservers',\n",
      "  'remote_user': 'root',\n",
      "  'tasks': [{'name': 'ensure apache is at the latest version',\n",
      "             'yum': {'name': 'httpd', 'state': 'latest'}}],\n",
      "  'vars': {'http_port': 80, 'max_clients': 200}}]\n"
     ]
    }
   ],
   "source": [
    "pprint(verify_apache)"
   ]
  },
  {
   "cell_type": "code",
   "execution_count": 96,
   "id": "01d6771c",
   "metadata": {},
   "outputs": [],
   "source": [
    "with open('verify-apache.yml', 'w') as opened_file:\n",
    "    yaml.dump(verify_apache, opened_file)"
   ]
  },
  {
   "cell_type": "markdown",
   "id": "a3fb344e",
   "metadata": {},
   "source": [
    "#### XML"
   ]
  },
  {
   "cell_type": "code",
   "execution_count": 1,
   "id": "7ac54ac0",
   "metadata": {},
   "outputs": [],
   "source": [
    "import xml.etree.ElementTree as ET\n"
   ]
  },
  {
   "cell_type": "code",
   "execution_count": 10,
   "id": "983bddcc",
   "metadata": {},
   "outputs": [],
   "source": [
    "tree = ET.parse('project.xml')"
   ]
  },
  {
   "cell_type": "code",
   "execution_count": 11,
   "id": "4df6db6f",
   "metadata": {},
   "outputs": [],
   "source": [
    "root = tree.getroot()"
   ]
  },
  {
   "cell_type": "code",
   "execution_count": 12,
   "id": "85ea64aa",
   "metadata": {},
   "outputs": [
    {
     "data": {
      "text/plain": [
       "<Element 'TimeLine' at 0x00000268C039BAB0>"
      ]
     },
     "execution_count": 12,
     "metadata": {},
     "output_type": "execute_result"
    }
   ],
   "source": [
    "root"
   ]
  },
  {
   "cell_type": "code",
   "execution_count": 13,
   "id": "0f3d019a",
   "metadata": {},
   "outputs": [
    {
     "name": "stdout",
     "output_type": "stream",
     "text": [
      "Properties {'Count': '50'}\n",
      "TimeLine {}\n",
      "TimeLine {}\n",
      "TimeLine {}\n",
      "TimeLine {}\n",
      "TimeLine {}\n",
      "TimeLine {}\n",
      "TimeLine {}\n",
      "TimeLine {}\n",
      "TimeLine {}\n",
      "TimeLine {}\n",
      "TimeLine {}\n",
      "TimeLine {}\n",
      "TimeLine {}\n",
      "TimeLine {}\n",
      "TimeLine {}\n",
      "TimeLine {}\n",
      "TimeLine {}\n",
      "TimeLine {}\n",
      "TimeLine {}\n",
      "TimeLine {}\n",
      "TimeLine {}\n",
      "TimeLine {}\n",
      "TimeLine {}\n",
      "TimeLine {}\n",
      "TimeLine {}\n",
      "TimeLine {}\n"
     ]
    }
   ],
   "source": [
    "for child in root:\n",
    "    print(child.tag, child.attrib)"
   ]
  },
  {
   "cell_type": "code",
   "execution_count": 18,
   "id": "5444d160",
   "metadata": {},
   "outputs": [],
   "source": [
    "%less project.xml"
   ]
  },
  {
   "cell_type": "code",
   "execution_count": 16,
   "id": "6345e9e5",
   "metadata": {},
   "outputs": [],
   "source": [
    "ns = {'default': 'http://www.w3.org/2005/Atom'}"
   ]
  },
  {
   "cell_type": "code",
   "execution_count": 20,
   "id": "cebff16e",
   "metadata": {},
   "outputs": [],
   "source": [
    "authors = root.findall('default:entry/default:author/default:name', ns)"
   ]
  },
  {
   "cell_type": "code",
   "execution_count": 21,
   "id": "39eff853",
   "metadata": {},
   "outputs": [],
   "source": [
    "for author in authors:\n",
    "    print(author.text)"
   ]
  },
  {
   "cell_type": "markdown",
   "id": "60b39302",
   "metadata": {},
   "source": [
    "# CSV"
   ]
  },
  {
   "cell_type": "code",
   "execution_count": 22,
   "id": "8d13ff3d",
   "metadata": {},
   "outputs": [],
   "source": [
    "import csv"
   ]
  },
  {
   "cell_type": "code",
   "execution_count": 29,
   "id": "ed39733f",
   "metadata": {},
   "outputs": [
    {
     "name": "stdout",
     "output_type": "stream",
     "text": [
      "Overwriting fileee.csv\n"
     ]
    }
   ],
   "source": [
    "%%writefile fileee.csv\n",
    "this is file\n",
    "this is file\n",
    "this is file\n",
    "this is file\n",
    "this is file\n",
    "this is file\n",
    "this is file\n",
    "this is file\n",
    "this is file"
   ]
  },
  {
   "cell_type": "code",
   "execution_count": 24,
   "id": "7db70095",
   "metadata": {},
   "outputs": [],
   "source": [
    "%less fileee.csv"
   ]
  },
  {
   "cell_type": "code",
   "execution_count": 25,
   "id": "cc57c128",
   "metadata": {},
   "outputs": [],
   "source": [
    "file_path = 'fileee.csv'"
   ]
  },
  {
   "cell_type": "code",
   "execution_count": 30,
   "id": "946b64be",
   "metadata": {},
   "outputs": [
    {
     "name": "stdout",
     "output_type": "stream",
     "text": [
      "['this is file']\n",
      "['this is file']\n",
      "['this is file']\n",
      "['this is file']\n",
      "['this is file']\n"
     ]
    }
   ],
   "source": [
    "with open(file_path, newline='') as csv_file:\n",
    "    off_reader = csv.reader(csv_file, delimiter=',')\n",
    "    for _ in range(5):\n",
    "        print(next(off_reader))"
   ]
  },
  {
   "cell_type": "code",
   "execution_count": null,
   "id": "236dd780",
   "metadata": {},
   "outputs": [],
   "source": [
    "%"
   ]
  }
 ],
 "metadata": {
  "kernelspec": {
   "display_name": "Python 3 (ipykernel)",
   "language": "python",
   "name": "python3"
  },
  "language_info": {
   "codemirror_mode": {
    "name": "ipython",
    "version": 3
   },
   "file_extension": ".py",
   "mimetype": "text/x-python",
   "name": "python",
   "nbconvert_exporter": "python",
   "pygments_lexer": "ipython3",
   "version": "3.10.0"
  }
 },
 "nbformat": 4,
 "nbformat_minor": 5
}
